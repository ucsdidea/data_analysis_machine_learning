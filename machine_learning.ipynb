{
 "cells": [
  {
   "cell_type": "markdown",
   "metadata": {},
   "source": [
    "# Machine Learning with Python\n",
    "Part of the SWEET Workshop series presented by the [IDEA Student Center at UC San Diego](http://www.jacobsschool.ucsd.edu/student/).\n",
    "\n",
    "### Goals\n",
    "Learn the basics of machine learning using Python using scikit-learn.\n",
    "\n",
    "### Requirements\n",
    "- numpy\n",
    "- matplotlib\n",
    "- scikit-learn"
   ]
  },
  {
   "cell_type": "code",
   "execution_count": 1,
   "metadata": {
    "collapsed": false
   },
   "outputs": [],
   "source": [
    "# load required packages\n",
    "\n",
    "# vectorized functions\n",
    "import numpy as np\n",
    "\n",
    "# plotting\n",
    "import matplotlib.pyplot as plt\n",
    "%matplotlib inline\n",
    "\n",
    "# load the machine learning methods\n",
    "from sklearn import linear_model, svm\n",
    "from sklearn import preprocessing\n",
    "\n",
    "# make the code compatible with python 2.x and 3.x\n",
    "from __future__ import print_function, division"
   ]
  },
  {
   "cell_type": "markdown",
   "metadata": {},
   "source": [
    "## 1) Supervised regression\n",
    "We'll start with a supervised regression task: predict the sound pressure level of the airfoil blade designs from the NASA data set in the previous iPython Notebook.\n",
    "\n",
    "**Reminder**: \"supervised\" means we have training data that includes the \"true\" output value (so we can adapt our model based on how well it predicts the \"true\" value)."
   ]
  },
  {
   "cell_type": "code",
   "execution_count": 3,
   "metadata": {
    "collapsed": false
   },
   "outputs": [
    {
     "name": "stdout",
     "output_type": "stream",
     "text": [
      "(1503, 6)\n"
     ]
    }
   ],
   "source": [
    "# we'll load the data using numpy's genfromtxt() function\n",
    "#\n",
    "# NOTE: the data columns are separated by commas\n",
    "#\n",
    "\n",
    "# load the data\n",
    "data = np.genfromtxt(\"airfoil_self_noise.csv\", delimiter=\",\")\n",
    "\n",
    "# check the data dimensions\n",
    "print( data.shape )"
   ]
  },
  {
   "cell_type": "code",
   "execution_count": 4,
   "metadata": {
    "collapsed": false
   },
   "outputs": [
    {
     "name": "stdout",
     "output_type": "stream",
     "text": [
      "(1000, 6)\n",
      "(503, 6)\n"
     ]
    }
   ],
   "source": [
    "# split the data into a training and testing set\n",
    "train = data[:1000]\n",
    "test = data[1000:]\n",
    "\n",
    "# check the size of the two data sets\n",
    "print( train.shape )\n",
    "print( test.shape )"
   ]
  },
  {
   "cell_type": "code",
   "execution_count": 8,
   "metadata": {
    "collapsed": false
   },
   "outputs": [],
   "source": [
    "# now let's separate the input variables from the output (aka target)\n",
    "\n",
    "# inputs (a matrix with m rows x 5 columns):\n",
    "# - frequency [Hz]\n",
    "# - angle of attack [degrees]\n",
    "# - chord length [m]\n",
    "# - free-stream velocity [m/s]\n",
    "# - suction side displacement thickness [m]\n",
    "#\n",
    "X_train = train[:, :5]\n",
    "X_test = test[:, :5]\n",
    "\n",
    "# output (a vector with m rows): scaled sound pressure level [dB]\n",
    "y_train = train[:, -1]\n",
    "y_test = test[:, -1]"
   ]
  },
  {
   "cell_type": "markdown",
   "metadata": {},
   "source": [
    "### 1.1) Ordinary Least-Squares\n",
    "Now that we have the data organized, we can move onto training a model. Let's start with Ordinary Least-Squares (OLS) regression."
   ]
  },
  {
   "cell_type": "code",
   "execution_count": 13,
   "metadata": {
    "collapsed": false
   },
   "outputs": [
    {
     "data": {
      "text/plain": [
       "LinearRegression(copy_X=True, fit_intercept=True, n_jobs=1, normalize=False)"
      ]
     },
     "execution_count": 13,
     "metadata": {},
     "output_type": "execute_result"
    }
   ],
   "source": [
    "# initialize the model\n",
    "ols = linear_model.LinearRegression()\n",
    "\n",
    "# fit the model to the training data\n",
    "ols.fit(X_train, y_train)"
   ]
  },
  {
   "cell_type": "markdown",
   "metadata": {},
   "source": [
    "Simple, right? That's because the Python community has put thousands of hours into make the scikit-learn interface as simple as possible. But underneath, there's a lot of important theory. And training some model is just the start.\n",
    "\n",
    "But now that we have a trained model, let's check its performance."
   ]
  },
  {
   "cell_type": "code",
   "execution_count": 14,
   "metadata": {
    "collapsed": false
   },
   "outputs": [
    {
     "name": "stdout",
     "output_type": "stream",
     "text": [
      "0.609742100092\n",
      "0.310343768412\n"
     ]
    }
   ],
   "source": [
    "# get the coefficient of determination (R^2) of the model\n",
    "# on the training and testing sets\n",
    "#\n",
    "# NOTE:\n",
    "# - R^1 = 1 => perfect result\n",
    "# - R^2 = 0 => bad result\n",
    "#\n",
    "\n",
    "# model performance on the training set\n",
    "print( ols.score(X_train, y_train) )\n",
    "\n",
    "\n",
    "# model performance on the testing set (which the model has\n",
    "# never seen before)\n",
    "print( ols.score(X_test, y_test) )"
   ]
  },
  {
   "cell_type": "markdown",
   "metadata": {},
   "source": [
    "**Discussion**: How did the model perform? Was the performance on the testing set better or worst than the training set? And by how much?"
   ]
  },
  {
   "cell_type": "markdown",
   "metadata": {},
   "source": [
    "### 1.2) Support Vector Regression\n",
    "Now that we tried a Least-Squares method, let's try a more \"pure\" Machine Learning method: Support Vector Regression (SVR)."
   ]
  },
  {
   "cell_type": "code",
   "execution_count": 18,
   "metadata": {
    "collapsed": false
   },
   "outputs": [
    {
     "name": "stdout",
     "output_type": "stream",
     "text": [
      "Training set: 0.321303886874\n",
      "Testing set: -0.0248261308626\n"
     ]
    }
   ],
   "source": [
    "# initialize the SVR model\n",
    "svr = svm.SVR()\n",
    "\n",
    "# train the model\n",
    "svr.fit(X_train, y_train)\n",
    "\n",
    "# check the model performance\n",
    "print( \"Training set:\", svr.score(X_train, y_train) )\n",
    "print( \"Testing set:\", svr.score(X_test, y_test) )"
   ]
  },
  {
   "cell_type": "markdown",
   "metadata": {},
   "source": [
    "**Discussion**: How did the SVR method compare to the OLS method? What could have caused the difference in the model performance? Does it mean Machine Learning are always good or always bad?"
   ]
  },
  {
   "cell_type": "code",
   "execution_count": 31,
   "metadata": {
    "collapsed": false
   },
   "outputs": [
    {
     "name": "stdout",
     "output_type": "stream",
     "text": [
      "Training set: 0.788224047272\n",
      "Testing set: 0.459319656191\n"
     ]
    }
   ],
   "source": [
    "# let's try to improve the performance of the SVR model\n",
    "\n",
    "# we'll scale the input variables so that have\n",
    "# zero mean and unit variance\n",
    "#\n",
    "X_scaled = preprocessing.scale(data[:, :5])\n",
    "X_scaled_train = X_scaled[:1000]\n",
    "X_scaled_test = X_scaled[1000:]\n",
    "\n",
    "# initialize the SVR model with a few tweaks\n",
    "svr = svm.SVR()\n",
    "\n",
    "# train the model\n",
    "svr.fit(X_scaled_train, y_train)\n",
    "\n",
    "# check the model performance\n",
    "print( \"Training set:\", svr.score(X_scaled_train, y_train) )\n",
    "print( \"Testing set:\", svr.score(X_scaled_test, y_test) )"
   ]
  },
  {
   "cell_type": "markdown",
   "metadata": {},
   "source": [
    "**Discussion**: Did scaling the inputs help at all? If so, how does the SVR (with scaled inputs) compare to the original OLS model?"
   ]
  },
  {
   "cell_type": "markdown",
   "metadata": {},
   "source": [
    "## 2) Supervised classification\n",
    "Classification is when you need to place some input into different categories. Examples:\n",
    "- Does this image have a cat? Y/N\n",
    "- What character (A-Z, 0-9) is shown in this photo?\n",
    "- Is there a person walking in front of the car (and therefore should the self-driving car stop)?\n",
    "\n",
    "In comparison, regression is focused on predicting values. However, there is a large overlap in classification and regression tasks (e.g. splitting data into training and testing sets, fitting models, and calculating statistics on the model predictions in order to evaluate the performance)."
   ]
  }
 ],
 "metadata": {
  "anaconda-cloud": {},
  "kernelspec": {
   "display_name": "Python 3",
   "language": "python",
   "name": "python3"
  },
  "language_info": {
   "codemirror_mode": {
    "name": "ipython",
    "version": 3
   },
   "file_extension": ".py",
   "mimetype": "text/x-python",
   "name": "python",
   "nbconvert_exporter": "python",
   "pygments_lexer": "ipython3",
   "version": "3.5.2"
  }
 },
 "nbformat": 4,
 "nbformat_minor": 0
}
