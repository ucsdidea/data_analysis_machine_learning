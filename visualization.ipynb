{
 "cells": [
  {
   "cell_type": "markdown",
   "metadata": {},
   "source": [
    "# Data Visualization with Python\n",
    "Part of the SWEET Workshop series presented by the [IDEA Student Center at UC San Diego](http://www.jacobsschool.ucsd.edu/student/).\n",
    "\n",
    "### Goals\n",
    "Learn to create professionally formatted visuals.\n",
    "\n",
    "### Requirements\n",
    "- numpy\n",
    "- matplotlib\n",
    "- seaborn"
   ]
  },
  {
   "cell_type": "code",
   "execution_count": null,
   "metadata": {
    "collapsed": false
   },
   "outputs": [],
   "source": [
    "# load required packages\n",
    "\n",
    "# vectorized functions\n",
    "import numpy as np\n",
    "\n",
    "# plotting\n",
    "import matplotlib.pyplot as plt\n",
    "%matplotlib inline\n",
    "\n",
    "# make the code compatible with python 2.x and 3.x\n",
    "from __future__ import print_function, division"
   ]
  },
  {
   "cell_type": "markdown",
   "metadata": {},
   "source": [
    "## 1) Loading data\n",
    "Let's start by loading an example data file: data on the number of shark attacks per month vs. the number of ice cream sales."
   ]
  },
  {
   "cell_type": "markdown",
   "metadata": {},
   "source": [
    "**Discussion**: Based on the data description:\n",
    "- How many columns should we get from loading the file?\n",
    "- Which variables have numeric values (if any)?"
   ]
  },
  {
   "cell_type": "code",
   "execution_count": null,
   "metadata": {
    "collapsed": false
   },
   "outputs": [],
   "source": [
    "# we'll load the data using numpy's genfromtxt() function\n",
    "#\n",
    "# NOTE: the data columns are separated by commas\n",
    "#\n",
    "\n",
    "# load the data\n",
    "data = np.genfromtxt(\"ice_cream_vs_shark_attacks.csv\", delimiter=\",\")\n",
    "\n",
    "# check the data dimensions\n",
    "#print( data.shape )\n",
    "\n",
    "# check the data type\n",
    "#print( type(data) )\n",
    "\n",
    "# check the data type of one of the individual elements\n",
    "#print( type(data[0, 0]) )"
   ]
  },
  {
   "cell_type": "markdown",
   "metadata": {},
   "source": [
    "**Discussion**:\n",
    "- How many rows and columns are there?\n",
    "- What data type of data was loaded? Numbers? Text?\n",
    "\n",
    "\n",
    "And which column is which variable?\n",
    "- column 0: ice cream sales\n",
    "- column 1: ???"
   ]
  },
  {
   "cell_type": "markdown",
   "metadata": {},
   "source": [
    "## 2) Visualizing data\n",
    "Now that we've loaded some data, it makes sense to try to visualize it."
   ]
  },
  {
   "cell_type": "code",
   "execution_count": null,
   "metadata": {
    "collapsed": false
   },
   "outputs": [],
   "source": [
    "# select the two variables from the data set\n",
    "ice_cream = data[:, 0]\n",
    "shark_attacks = data[:, 1]\n",
    "\n",
    "# create a scatter plot\n",
    "plt.scatter(ice_cream, shark_attacks)\n",
    "\n",
    "plt.show()"
   ]
  },
  {
   "cell_type": "markdown",
   "metadata": {},
   "source": [
    "Let's try to improve the plot formatting. After all, almost every data analysis project will involve create a visual that can then be presented to someone (coworkers, project supervisors, clients, etc.).\n",
    "\n",
    "Ideas for formatting revisions:\n",
    "- colors\n",
    "- figure size\n",
    "- text labels\n",
    "- font sizes"
   ]
  },
  {
   "cell_type": "code",
   "execution_count": null,
   "metadata": {
    "collapsed": false
   },
   "outputs": [],
   "source": [
    "# select two of the variables from the data set\n",
    "ice_cream = data[:, 0]\n",
    "shark_attacks = data[:, ???]\n",
    "\n",
    "# set the figure size\n",
    "plt.figure(figsize=(???, ???))\n",
    "\n",
    "# create a scatter plot\n",
    "plt.scatter(ice_cream, shark_attacks, color='???')\n",
    "\n",
    "# add labels\n",
    "plt.xlabel('???')\n",
    "plt.ylabel('???')\n",
    "\n",
    "# add a grid\n",
    "plt.grid()\n",
    "\n",
    "plt.show()"
   ]
  },
  {
   "cell_type": "markdown",
   "metadata": {},
   "source": [
    "# 3) Formatting with seaborn\n",
    "Let's \"cheat\" by using the seaborn package to get better plot defaults.\n",
    "**NOTE**: everything seaborn does, you can accomplish with just matplotlib. But seaborn makes it a lot easier."
   ]
  },
  {
   "cell_type": "code",
   "execution_count": null,
   "metadata": {
    "collapsed": true
   },
   "outputs": [],
   "source": [
    "# better plotting settings with seaborn\n",
    "#\n",
    "# NOTE: once loaded, seaborn starts affecting all plots\n",
    "#\n",
    "import seaborn as sns"
   ]
  },
  {
   "cell_type": "code",
   "execution_count": null,
   "metadata": {
    "collapsed": false
   },
   "outputs": [],
   "source": [
    "# select two of the variables from the data set\n",
    "ice_cream = data[:, 0]\n",
    "shark_attacks = data[:, 1]\n",
    "\n",
    "# set the seaborn settings\n",
    "#\n",
    "# context:\n",
    "# - talk = for a presentation\n",
    "# - paper = for a report, journal article, etc.\n",
    "#\n",
    "# style:\n",
    "# - white\n",
    "# - dark\n",
    "# - whitegrid\n",
    "# - darkgrid\n",
    "# - ticks\n",
    "#\n",
    "sns.set(context='talk', style='white')\n",
    "\n",
    "# set the figure size\n",
    "#plt.figure(figsize=(???, ???))\n",
    "\n",
    "# create a scatter plot\n",
    "plt.scatter(ice_cream, shark_attacks)\n",
    "\n",
    "# add labels\n",
    "plt.xlabel('???')\n",
    "plt.ylabel('???')\n",
    "\n",
    "plt.show()\n",
    "\n",
    "\n",
    "# try customizing this plot further\n",
    "# - add labels\n",
    "# - change the colors"
   ]
  },
  {
   "cell_type": "markdown",
   "metadata": {},
   "source": [
    "Now let's try some other plot types:\n",
    "- line plot\n",
    "- histogram\n",
    "- bar plot"
   ]
  },
  {
   "cell_type": "code",
   "execution_count": null,
   "metadata": {
    "collapsed": true
   },
   "outputs": [],
   "source": []
  }
 ],
 "metadata": {
  "kernelspec": {
   "display_name": "Python 3",
   "language": "python",
   "name": "python3"
  },
  "language_info": {
   "codemirror_mode": {
    "name": "ipython",
    "version": 3
   },
   "file_extension": ".py",
   "mimetype": "text/x-python",
   "name": "python",
   "nbconvert_exporter": "python",
   "pygments_lexer": "ipython3",
   "version": "3.5.2"
  }
 },
 "nbformat": 4,
 "nbformat_minor": 0
}
