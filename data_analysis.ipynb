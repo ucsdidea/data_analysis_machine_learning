{
 "cells": [
  {
   "cell_type": "markdown",
   "metadata": {},
   "source": [
    "# Data Analysis with Python\n",
    "Part of the SWEET Workshop series presented by the [IDEA Student Center at UC San Diego](http://www.jacobsschool.ucsd.edu/student/).\n",
    "\n",
    "### Goals\n",
    "Learn the basics of data analysis using Python.\n",
    "\n",
    "### Requirements\n",
    "- numpy\n",
    "- matplotlib"
   ]
  },
  {
   "cell_type": "code",
   "execution_count": null,
   "metadata": {
    "collapsed": false
   },
   "outputs": [],
   "source": [
    "# load required packages\n",
    "\n",
    "# vectorized functions\n",
    "import numpy as np\n",
    "\n",
    "# plotting\n",
    "import matplotlib.pyplot as plt\n",
    "%matplotlib inline\n",
    "\n",
    "# make the code compatible with python 2.x and 3.x\n",
    "from __future__ import print_function, division"
   ]
  },
  {
   "cell_type": "markdown",
   "metadata": {},
   "source": [
    "## 1) Loading data\n",
    "Let's start by loading an example data file: a NASA data set from testing the aerodynamic and acoustic performance of different airfoil blade designs.\n",
    "\n",
    "#### Source\n",
    "https://archive.ics.uci.edu/ml/datasets/Airfoil+Self-Noise\n",
    "\n",
    "#### Data description\n",
    "This problem has the following inputs: \n",
    "1. Frequency, in Hertzs. \n",
    "2. Angle of attack, in degrees. \n",
    "3. Chord length, in meters. \n",
    "4. Free-stream velocity, in meters per second. \n",
    "5. Suction side displacement thickness, in meters. \n",
    "\n",
    "The only output is: \n",
    "6. Scaled sound pressure level, in decibels."
   ]
  },
  {
   "cell_type": "markdown",
   "metadata": {},
   "source": [
    "**Discussion**: Based on the data description:\n",
    "- How many columns should we get from loading the file?\n",
    "- Which variables have numeric values (if any)?"
   ]
  },
  {
   "cell_type": "code",
   "execution_count": null,
   "metadata": {
    "collapsed": false
   },
   "outputs": [],
   "source": [
    "# we'll load the data using numpy's genfromtxt() function\n",
    "#\n",
    "# NOTE: the data columns are separated by commas\n",
    "#\n",
    "\n",
    "# load the data\n",
    "data = np.genfromtxt(\"airfoil_self_noise.csv\", delimiter=\",\")\n",
    "\n",
    "# check the data dimensions\n",
    "#print( data.shape )\n",
    "\n",
    "# check the data type\n",
    "#print( type(data) )\n",
    "\n",
    "# check the data type of one of the individual elements\n",
    "#print( type(data[0, 0]) )"
   ]
  },
  {
   "cell_type": "markdown",
   "metadata": {},
   "source": [
    "**Discussion**:\n",
    "- How many rows and columns are there?\n",
    "- What data type of data was loaded? Numbers? Text?\n",
    "\n",
    "\n",
    "And which column is which variable (e.g. frequency)?\n",
    "- column 0: frequency [Hz]\n",
    "- column 1: ???\n",
    "- column 2: ???\n",
    "- column 3: ???\n",
    "- column 4: ???\n",
    "- column 5: scaled sound pressure [dB]"
   ]
  },
  {
   "cell_type": "markdown",
   "metadata": {},
   "source": [
    "## 2) Visualizing data\n",
    "Now that we've loaded some data, it makes sense to try to visualize it."
   ]
  },
  {
   "cell_type": "code",
   "execution_count": null,
   "metadata": {
    "collapsed": false
   },
   "outputs": [],
   "source": [
    "# select two of the variables from the data set\n",
    "x = data[:, 0]\n",
    "y = data[:, ???]\n",
    "\n",
    "# create a scatter plot\n",
    "plt.scatter(x, y)\n",
    "\n",
    "plt.show()"
   ]
  },
  {
   "cell_type": "markdown",
   "metadata": {},
   "source": [
    "Let's try to improve the plot formatting. After all, almost every data analysis project will involve create a visual that can then be presented to someone (coworkers, project supervisors, clients, etc.).\n",
    "\n",
    "Ideas for formatting revisions:\n",
    "- colors\n",
    "- figure size\n",
    "- text labels\n",
    "- font sizes"
   ]
  },
  {
   "cell_type": "code",
   "execution_count": null,
   "metadata": {
    "collapsed": false
   },
   "outputs": [],
   "source": [
    "# select two of the variables from the data set\n",
    "x = data[:, 0]\n",
    "y = data[:, ???]\n",
    "\n",
    "# set the figure size\n",
    "plt.figure(figsize=(???, ???))\n",
    "\n",
    "# create a scatter plot\n",
    "plt.scatter(x, y, color='???')\n",
    "\n",
    "# add labels\n",
    "plt.xlabel('???')\n",
    "plt.ylabel('???')\n",
    "\n",
    "# add a grid\n",
    "plt.grid()\n",
    "\n",
    "plt.show()"
   ]
  },
  {
   "cell_type": "markdown",
   "metadata": {},
   "source": [
    "## 3) Statistics\n",
    "In addition to visuals, statistics can provide valuable information about a data set. Let's try calculating a few common statistics using numpy."
   ]
  },
  {
   "cell_type": "code",
   "execution_count": null,
   "metadata": {
    "collapsed": false
   },
   "outputs": [],
   "source": [
    "# select one of the variables from the data set\n",
    "x = data[:, 5]\n",
    "\n",
    "# what's the mean value?\n",
    "print( np.mean(x) )"
   ]
  },
  {
   "cell_type": "code",
   "execution_count": null,
   "metadata": {
    "collapsed": true
   },
   "outputs": [],
   "source": [
    "# what's the min and max values?\n",
    "print( np.max(???) )\n",
    "print( np.???(???) )"
   ]
  },
  {
   "cell_type": "code",
   "execution_count": null,
   "metadata": {
    "collapsed": true
   },
   "outputs": [],
   "source": [
    "# what about the standard deviation?\n",
    "print( np.???(x) )"
   ]
  },
  {
   "cell_type": "markdown",
   "metadata": {},
   "source": [
    "## 4) Fitting data\n",
    "Another common tasks when working with data is fitting a model to the data. For example, fitting a linear mapping ($y = ax + b$) between two variables ($x$ and $y$). There are many methods for accomplishing this task, but we'll focus on a simple one using numpy and a new data.\n",
    "\n",
    "#### Data set\n",
    "Measurements of global horizontal irradiance (GHI) [W/m^2] and power output [kW] from a PV power plant in San Diego County.\n",
    "- column 0: GHI [W/m^2]\n",
    "- column 1: power [kW]"
   ]
  },
  {
   "cell_type": "code",
   "execution_count": null,
   "metadata": {
    "collapsed": false
   },
   "outputs": [],
   "source": [
    "# load the new data set\n",
    "power_data = np.genfromtxt('sample_ghi_power.csv', delimiter=',')\n",
    "\n",
    "# check data size (i.e. number of rows and columns)\n"
   ]
  },
  {
   "cell_type": "code",
   "execution_count": null,
   "metadata": {
    "collapsed": false
   },
   "outputs": [],
   "source": [
    "# make a quick scatter plot\n",
    "ghi = power_data[:, 0]\n",
    "power = power_data[:, ???]\n",
    "\n",
    "# scatter plot\n",
    "plt.scatter(???, ???)\n",
    "\n",
    "# add labels\n",
    "plt.xlabel('???')\n",
    "plt.ylabel('???')\n",
    "\n",
    "plt.show()"
   ]
  },
  {
   "cell_type": "code",
   "execution_count": null,
   "metadata": {
    "collapsed": false
   },
   "outputs": [],
   "source": [
    "# now we'll create a polynomial model fitted to the data\n",
    "\n",
    "# set the input (x) and output (y) variables\n",
    "x = ghi\n",
    "y = power\n",
    "\n",
    "# fit the model to the data:\n",
    "# - 1 = first order fit => linear fit\n",
    "# - 2 = second order fit => quadratic\n",
    "# - etc.\n",
    "#\n",
    "coeff = np.polyfit(x, y, 1)\n",
    "\n",
    "# create a function we can call to fitted model\n",
    "model = np.poly1d(coeff)"
   ]
  },
  {
   "cell_type": "code",
   "execution_count": null,
   "metadata": {
    "collapsed": false
   },
   "outputs": [],
   "source": [
    "# now let's plot the fitted model against the data\n",
    "\n",
    "# create a range of theoretical values to try fitting\n",
    "x_fit = np.linspace(0, 1000, 1000)\n",
    "\n",
    "# use the fitted model to estimate the output\n",
    "y_fit = model(x_fit)\n",
    "\n",
    "\n",
    "# plot the original data\n",
    "plt.scatter(x, y, color='0.5')\n",
    "\n",
    "# overlay the plot of the fitted model\n",
    "plt.plot(x_fit, y_fit, color='red')\n",
    "\n",
    "plt.show()"
   ]
  },
  {
   "cell_type": "markdown",
   "metadata": {},
   "source": [
    "**Discussion**: Try other values for the order of the model (e.g. 2). Based on the results:\n",
    "- What appears to the best type of fitting model? Linear? Quadratic? Cubic?\n",
    "- Are there any downsides to increasing the order of the model? E.g. why not do a 100th-order fitting model?"
   ]
  }
 ],
 "metadata": {
  "kernelspec": {
   "display_name": "Python 3",
   "language": "python",
   "name": "python3"
  },
  "language_info": {
   "codemirror_mode": {
    "name": "ipython",
    "version": 3
   },
   "file_extension": ".py",
   "mimetype": "text/x-python",
   "name": "python",
   "nbconvert_exporter": "python",
   "pygments_lexer": "ipython3",
   "version": "3.5.2"
  }
 },
 "nbformat": 4,
 "nbformat_minor": 0
}
